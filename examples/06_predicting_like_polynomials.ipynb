{
 "cells": [
  {
   "cell_type": "markdown",
   "metadata": {},
   "source": [
    "# Predicting Like Polynomial Terms\n",
    "\n",
    "Remember in Algebra how you had to combine like terms to simplify problems? \n",
    "\n",
    "You'd see expressions like `60 + 2x^3 - 6x + x^3 + 17x` in which there are **5** total terms but only **4** are \"like terms\". `2x^3` and `x^3` are like, and `-6x` and `17x` are like, while `60` has like siblings.\n",
    "\n",
    "Can we teach a model to predict that there are `4` like terms in the above expression?\n",
    "\n",
    "Let's give it a shot using mathy to generate math problems and thinc to build a regression model that outputs the number of like terms in the input problems."
   ]
  },
  {
   "cell_type": "code",
   "execution_count": null,
   "metadata": {},
   "outputs": [],
   "source": [
    "!pip install thinc mathy"
   ]
  },
  {
   "cell_type": "markdown",
   "metadata": {},
   "source": [
    "### Encode Text Inputs\n",
    "\n",
    "Mathy generates ascii-math problem texts that we need to encode into scalar values for the model to process. We'll one-hot encode the text by individual characters to keep things simple.\n",
    "\n",
    "For math problems our vocabulary will include all the characters of the alphabet, numbers 0-9, and the special characters used for operators like `*`, `/`, `.`, etc.\n",
    "\n",
    "Thinc has a `to_categorical` helper that we can use for converting values into one-hot arrays. Let's use that to write a function that accepts an input string and returns a one-hot representation."
   ]
  },
  {
   "cell_type": "code",
   "execution_count": 3,
   "metadata": {},
   "outputs": [],
   "source": [
    "from thinc.types import Array2d\n",
    "from thinc.api import Ops, get_current_ops, to_categorical\n",
    "\n",
    "vocab = \" .+-/^*()[]-01234567890abcdefghijklmnopqrstuvwxyzABCDEFGHIJKLMNOPQRSTUVWXYZ\"\n",
    "\n",
    "def encode_input(text: str) -> Array2d:\n",
    "    ops: Ops = get_current_ops()\n",
    "    vocab_indices: List[int] = [vocab.index(s) for s in text]\n",
    "    return to_categorical(ops.asarray(vocab_indices), n_classes=len(vocab))\n"
   ]
  },
  {
   "cell_type": "markdown",
   "metadata": {},
   "source": [
    "#### Try It\n",
    "\n",
    "Let's try it out on some fixed data to be sure it works. \n",
    "\n",
    "We should expect to see an output of one-hot arrays, one for each character in the input."
   ]
  },
  {
   "cell_type": "code",
   "execution_count": 26,
   "metadata": {},
   "outputs": [
    {
     "name": "stdout",
     "output_type": "stream",
     "text": [
      "[[0. 0. 0. 0. 0. 0. 0. 0. 0. 0. 0. 0. 0. 0. 0. 0. 1. 0. 0. 0. 0. 0. 0. 0.\n",
      "  0. 0. 0. 0. 0. 0. 0. 0. 0. 0. 0. 0. 0. 0. 0. 0. 0. 0. 0. 0. 0. 0. 0. 0.\n",
      "  0. 0. 0. 0. 0. 0. 0. 0. 0. 0. 0. 0. 0. 0. 0. 0. 0. 0. 0. 0. 0. 0. 0. 0.\n",
      "  0. 0. 0.]\n",
      " [0. 0. 1. 0. 0. 0. 0. 0. 0. 0. 0. 0. 0. 0. 0. 0. 0. 0. 0. 0. 0. 0. 0. 0.\n",
      "  0. 0. 0. 0. 0. 0. 0. 0. 0. 0. 0. 0. 0. 0. 0. 0. 0. 0. 0. 0. 0. 0. 0. 0.\n",
      "  0. 0. 0. 0. 0. 0. 0. 0. 0. 0. 0. 0. 0. 0. 0. 0. 0. 0. 0. 0. 0. 0. 0. 0.\n",
      "  0. 0. 0.]\n",
      " [0. 0. 0. 0. 0. 0. 0. 0. 0. 0. 0. 0. 0. 0. 1. 0. 0. 0. 0. 0. 0. 0. 0. 0.\n",
      "  0. 0. 0. 0. 0. 0. 0. 0. 0. 0. 0. 0. 0. 0. 0. 0. 0. 0. 0. 0. 0. 0. 0. 0.\n",
      "  0. 0. 0. 0. 0. 0. 0. 0. 0. 0. 0. 0. 0. 0. 0. 0. 0. 0. 0. 0. 0. 0. 0. 0.\n",
      "  0. 0. 0.]]\n"
     ]
    }
   ],
   "source": [
    "outputs = encode_input(\"4+2\")\n",
    "assert outputs[0].argmax() == vocab.index(\"4\")\n",
    "assert outputs[1].argmax() == vocab.index(\"+\")\n",
    "assert outputs[2].argmax() == vocab.index(\"2\")\n",
    "print(outputs)"
   ]
  },
  {
   "cell_type": "markdown",
   "metadata": {},
   "source": [
    "### Generate Math Problems\n",
    "\n",
    "We'll use [Mathy](https://mathy.ai) to generate [random polynomial problems](https://mathy.ai/api/problems/#gen_simplify_multiple_terms) with a variable number of like terms. The generated problems will act as training data for our model."
   ]
  },
  {
   "cell_type": "code",
   "execution_count": 12,
   "metadata": {},
   "outputs": [],
   "source": [
    "from typing import List, Optional, Set\n",
    "import random\n",
    "from mathy.problems import gen_simplify_multiple_terms\n",
    "\n",
    "\n",
    "def generate_problems(number: int, exclude: Optional[Set[str]] = None) -> List[str]:\n",
    "    if exclude is None:\n",
    "        exclude = set()\n",
    "    problems: List[str] = []\n",
    "    while len(problems) < number:\n",
    "        text, _ = gen_simplify_multiple_terms(\n",
    "            random.randint(3, 8), noise_probability=1.0, noise_terms=10\n",
    "        )\n",
    "        assert text not in exclude, \"duplicate problem generated!\"\n",
    "        problems.append(text)\n",
    "    return problems\n"
   ]
  },
  {
   "cell_type": "markdown",
   "metadata": {},
   "source": [
    "#### Try It"
   ]
  },
  {
   "cell_type": "code",
   "execution_count": 14,
   "metadata": {},
   "outputs": [
    {
     "data": {
      "text/plain": [
       "['9n + 1d + 7.3b + 1299j + 4.2m + 10.4r + 8576s + 5o + 1.6u + -5815f + 8f + -4808c + 8.2w',\n",
       " '3u^2 + 5.8j + 4015g + 6318c + 1o + 1k + 7p + -5447m + -9561h^3 + 1.0m + 1587p + 9t + 8831f^3 + 7m + 4m + 2.2n + 9.8p',\n",
       " '6d^4 + 2j + 7198.9t + 7555a + 4.4g^2 + -1301q + 9.1u^4 + 8.6o + 1.7x + 4.7o + -701x + 8695o + 6307x + 0.8o + 12x + 12z^2 + -6021.8h^3 + -3735.5r^3',\n",
       " '6j^2 + 2g + 3545.2t + 8.2o^4 + 1806.0r + 10.2w + 3606l^3 + 10h + 8.7p + 1.3k + 8.7y + 6.9k + 613y + 5k + -9546y + 8k + 4y + -9984d^2',\n",
       " '5x + -3606v^3 + 4519m^2 + 10a + -1455g + 9z^3 + 6.2s^3 + 9627z^3 + 4887m^2 + -1819j + 6071h^3 + -6923u + -9845z^3 + 1y^4 + -4590m^2 + 2.0q',\n",
       " '2.8o + 11l^4 + 2.8q + 6564.7j^3 + 11.3y + -6816s + -8879b + -9585k + -8861c + 3k + 7d + 4626z + 1x^4',\n",
       " '-7233w^4 + 1.2v + 6.0t^4 + -3303o + 5j^4 + 4.9z^2 + 2043y^2 + -9716.6z^2 + 2553.5y^2 + 10.0z^2 + 4.3y^2 + 4z^2 + 5y^2 + 6.9m + -1259k^4 + 5596b + -7434g + 7797f^4',\n",
       " '4t + 9.3l + -3121.9q^2 + -6156x + 10.3u^4 + 8f + 1420h + 9.0v + 8079.6m + -1533v + 3.8m + 7s^2 + 5.7d + -5519j',\n",
       " '-8715a + 9812.7q^4 + 8.1s + 3v^4 + 6952z + 5r + 7.6p^2 + 11w + 10.9p^2 + -2275w + 10p^2 + 1942w + 9.0p^2 + 7o^4 + 2.0h + -5589d^4 + -323l^2',\n",
       " '7.6f + 887r + 5841o + -2036q + 4t + 2137.6b + 9563m + 9.3x + 7.1j^3 + 11.2n + 2s + 3.6n + 7.9s + 8.0c']"
      ]
     },
     "execution_count": 14,
     "metadata": {},
     "output_type": "execute_result"
    }
   ],
   "source": [
    "generate_problems(10)"
   ]
  },
  {
   "cell_type": "markdown",
   "metadata": {},
   "source": [
    "### Count Like Terms\n",
    "\n",
    "Now that we can generate input problems, we'll need a function that can count the like terms in each one and return the value for use as a label.\n",
    "\n",
    "To accomplish this we'll use a few helpers from mathy to enumerate the terms and compare them to see if they're like."
   ]
  },
  {
   "cell_type": "code",
   "execution_count": 20,
   "metadata": {},
   "outputs": [],
   "source": [
    "from typing import Optional, List, Dict\n",
    "from mathy import MathExpression, ExpressionParser, get_terms, get_term_ex, TermEx\n",
    "from mathy.problems import mathy_term_string\n",
    "\n",
    "parser = ExpressionParser()\n",
    "\n",
    "def count_like_terms(input_problem: str) -> int:\n",
    "    expression: MathExpression = parser.parse(input_problem)\n",
    "    term_nodes: List[MathExpression] = get_terms(expression)\n",
    "    node_groups: Dict[str, List[int]] = {}\n",
    "    for term_node in term_nodes:\n",
    "        ex: Optional[TermEx] = get_term_ex(term_node)\n",
    "        assert ex is not None, f\"invalid expression {ex}\"\n",
    "        key = mathy_term_string(variable=ex.variable, exponent=ex.exponent)\n",
    "        if key == \"\":\n",
    "            key = \"const\"\n",
    "        if key not in node_groups:\n",
    "            node_groups[key] = [term_node]\n",
    "        else:\n",
    "            node_groups[key].append(term_node)\n",
    "    like_terms = 0\n",
    "    for k, v in node_groups.items():\n",
    "        if len(v) <= 1:\n",
    "            continue\n",
    "        like_terms += len(v)\n",
    "    return like_terms"
   ]
  },
  {
   "cell_type": "markdown",
   "metadata": {},
   "source": [
    "#### Try It"
   ]
  },
  {
   "cell_type": "code",
   "execution_count": 24,
   "metadata": {},
   "outputs": [],
   "source": [
    "assert count_like_terms(\"4x + 2y + q\") == 0\n",
    "assert count_like_terms(\"x + x + z\") == 2\n",
    "assert count_like_terms(\"4x + 2x + x + 7\") == 3"
   ]
  },
  {
   "cell_type": "markdown",
   "metadata": {},
   "source": [
    "### Generate Problem/Answer pairs\n",
    "\n",
    "Now that we can generate problems, count the number of like terms in them, and encode their text into one-hot vectors, we have the pieces required to generate random problems and answers that we can train a neural network on.\n",
    "\n",
    "Let's write a function that will return a tuple of: the problem text, its encoded example form, and the output label."
   ]
  },
  {
   "cell_type": "code",
   "execution_count": 28,
   "metadata": {},
   "outputs": [],
   "source": [
    "from typing import Tuple\n",
    "from thinc.types import Array2d\n",
    "\n",
    "def to_example(input_problem: str) -> Tuple[str, Array2d, int]:\n",
    "    one_hot = encode_input(input_problem)\n",
    "    like_terms = count_like_terms(input_problem)\n",
    "    return input_problem, one_hot, like_terms"
   ]
  },
  {
   "cell_type": "markdown",
   "metadata": {},
   "source": [
    "#### Try It"
   ]
  },
  {
   "cell_type": "code",
   "execution_count": 32,
   "metadata": {},
   "outputs": [
    {
     "name": "stdout",
     "output_type": "stream",
     "text": [
      "x+2x [[0. 0. 0. 0. 0. 0. 0. 0. 0. 0. 0. 0. 0. 0. 0. 0. 0. 0. 0. 0. 0. 0. 0. 0.\n",
      "  0. 0. 0. 0. 0. 0. 0. 0. 0. 0. 0. 0. 0. 0. 0. 0. 0. 0. 0. 0. 0. 0. 1. 0.\n",
      "  0. 0. 0. 0. 0. 0. 0. 0. 0. 0. 0. 0. 0. 0. 0. 0. 0. 0. 0. 0. 0. 0. 0. 0.\n",
      "  0. 0. 0.]\n",
      " [0. 0. 1. 0. 0. 0. 0. 0. 0. 0. 0. 0. 0. 0. 0. 0. 0. 0. 0. 0. 0. 0. 0. 0.\n",
      "  0. 0. 0. 0. 0. 0. 0. 0. 0. 0. 0. 0. 0. 0. 0. 0. 0. 0. 0. 0. 0. 0. 0. 0.\n",
      "  0. 0. 0. 0. 0. 0. 0. 0. 0. 0. 0. 0. 0. 0. 0. 0. 0. 0. 0. 0. 0. 0. 0. 0.\n",
      "  0. 0. 0.]\n",
      " [0. 0. 0. 0. 0. 0. 0. 0. 0. 0. 0. 0. 0. 0. 1. 0. 0. 0. 0. 0. 0. 0. 0. 0.\n",
      "  0. 0. 0. 0. 0. 0. 0. 0. 0. 0. 0. 0. 0. 0. 0. 0. 0. 0. 0. 0. 0. 0. 0. 0.\n",
      "  0. 0. 0. 0. 0. 0. 0. 0. 0. 0. 0. 0. 0. 0. 0. 0. 0. 0. 0. 0. 0. 0. 0. 0.\n",
      "  0. 0. 0.]\n",
      " [0. 0. 0. 0. 0. 0. 0. 0. 0. 0. 0. 0. 0. 0. 0. 0. 0. 0. 0. 0. 0. 0. 0. 0.\n",
      "  0. 0. 0. 0. 0. 0. 0. 0. 0. 0. 0. 0. 0. 0. 0. 0. 0. 0. 0. 0. 0. 0. 1. 0.\n",
      "  0. 0. 0. 0. 0. 0. 0. 0. 0. 0. 0. 0. 0. 0. 0. 0. 0. 0. 0. 0. 0. 0. 0. 0.\n",
      "  0. 0. 0.]] 2\n"
     ]
    }
   ],
   "source": [
    "text, X, Y = to_example(\"x+2x\")\n",
    "# text is preserved for debugging/visualization\n",
    "assert text == \"x+2x\"\n",
    "# X contains one-hot vectors\n",
    "assert X[0].argmax() == vocab.index(\"x\")\n",
    "# Y is the number of like terms\n",
    "assert Y == 2\n",
    "print(text, X, Y)"
   ]
  },
  {
   "cell_type": "markdown",
   "metadata": {},
   "source": [
    "### Build a Model\n",
    "\n",
    "Now that we can generate X/Y values, let's define our model and verify it can process a single input/output.\n",
    "\n",
    "For this we'll use Thinc and define a model that takes in an `Array2d` of examples and outputs an `Array1d` of scalar values, one for each example input."
   ]
  },
  {
   "cell_type": "code",
   "execution_count": 37,
   "metadata": {},
   "outputs": [],
   "source": [
    "from typing import List\n",
    "from thinc.model import Model\n",
    "from thinc.types import Array2d, Array1d\n",
    "from thinc.api import chain, list2ragged, reduce_sum, ReLu\n",
    "\n",
    "def CountLikeTerms(\n",
    "    n_hidden: int, dropout: float = 0.5\n",
    ") -> Model[List[Array2d], Array1d]:\n",
    "    with Model.define_operators({\">>\": chain}):\n",
    "        model = (\n",
    "            list2ragged()\n",
    "            >> reduce_sum()\n",
    "            >> ReLu(n_hidden, dropout=dropout)\n",
    "            >> ReLu(n_hidden)\n",
    "            >> ReLu(n_hidden)\n",
    "            >> ReLu(n_hidden)\n",
    "            >> ReLu(1)\n",
    "        )\n",
    "    return model"
   ]
  },
  {
   "cell_type": "markdown",
   "metadata": {},
   "source": [
    "#### Try It\n",
    "\n",
    "Let's pass an example through the model to make sure we have all the sizes right."
   ]
  },
  {
   "cell_type": "code",
   "execution_count": 54,
   "metadata": {},
   "outputs": [],
   "source": [
    "text, X, Y = to_example(\"14x + 2y - 3x + 7x\")\n",
    "m = CountLikeTerms(12)\n",
    "m.initialize([X], Y)\n",
    "assert m.predict([X]).shape == (1, 1)"
   ]
  },
  {
   "cell_type": "markdown",
   "metadata": {},
   "source": [
    "### Generate Training Datasets\n",
    "\n",
    "Now that we can generate examples and we have a model that can process them, let's generate random unique training and evaluation datasets.\n",
    "\n",
    "For this we'll write another helper function that can generate (n) training examples and respects an exclude list to avoid letting examples from the training/test sets overlap."
   ]
  },
  {
   "cell_type": "code",
   "execution_count": 49,
   "metadata": {},
   "outputs": [],
   "source": [
    "from typing import Optional, Set, List\n",
    "from thinc.types import Array2d\n",
    "\n",
    "def generate_dataset(\n",
    "    size: int, exclude: Optional[Set[str]] = None\n",
    ") -> Tuple[List[str], List[Array2d], List[int]]:\n",
    "    texts: List[str] = generate_problems(size)\n",
    "    examples: List[Array2d] = []\n",
    "    labels: List[int] = []\n",
    "    for i, text in enumerate(texts):\n",
    "        text, x, y = to_example(text)\n",
    "        examples.append(x)\n",
    "        labels.append(y)\n",
    "\n",
    "    return texts, examples, labels"
   ]
  },
  {
   "cell_type": "markdown",
   "metadata": {},
   "source": [
    "#### Try It\n",
    "\n",
    "Generate a small dataset to be sure everything is working as expected"
   ]
  },
  {
   "cell_type": "code",
   "execution_count": 51,
   "metadata": {},
   "outputs": [
    {
     "data": {
      "text/plain": [
       "(['6b + 8.8u^2 + 3d + 9940g + 1234v + 7.3j + 2n + -340l + 9.8n + 11.1l + 1n + 3319f^2 + 4r + 6.8o + 2t',\n",
       "  '-9599a + 11.4s + 1k^3 + 12j + 1o + 5.1u + 4d + 2266.0y^4 + -9721n^2 + 10y^4 + 7934n^2 + -5319y^4 + 1.2n^2 + 1.4y^4 + -3386x + 7v + 8.8t^2',\n",
       "  '4784.3z + 9s + 0.7n + -7046y + 7w + 4.0r + -3554l + 9.2x + 3.3j^3 + 8u^3 + 8m + 1u^3 + -234m + 7036u^3 + 11.4m + 6143u^3 + 5034.5m + 1215q^4'],\n",
       " [array([[0., 0., 0., ..., 0., 0., 0.],\n",
       "         [0., 0., 0., ..., 0., 0., 0.],\n",
       "         [1., 0., 0., ..., 0., 0., 0.],\n",
       "         ...,\n",
       "         [1., 0., 0., ..., 0., 0., 0.],\n",
       "         [0., 0., 0., ..., 0., 0., 0.],\n",
       "         [0., 0., 0., ..., 0., 0., 0.]], dtype=float32),\n",
       "  array([[0., 0., 0., ..., 0., 0., 0.],\n",
       "         [0., 0., 0., ..., 0., 0., 0.],\n",
       "         [0., 0., 0., ..., 0., 0., 0.],\n",
       "         ...,\n",
       "         [0., 0., 0., ..., 0., 0., 0.],\n",
       "         [0., 0., 0., ..., 0., 0., 0.],\n",
       "         [0., 0., 0., ..., 0., 0., 0.]], dtype=float32),\n",
       "  array([[0., 0., 0., ..., 0., 0., 0.],\n",
       "         [0., 0., 0., ..., 0., 0., 0.],\n",
       "         [0., 0., 0., ..., 0., 0., 0.],\n",
       "         ...,\n",
       "         [0., 0., 0., ..., 0., 0., 0.],\n",
       "         [0., 0., 0., ..., 0., 0., 0.],\n",
       "         [0., 0., 0., ..., 0., 0., 0.]], dtype=float32)],\n",
       " [5, 7, 8])"
      ]
     },
     "execution_count": 51,
     "metadata": {},
     "output_type": "execute_result"
    }
   ],
   "source": [
    "generate_dataset(3)"
   ]
  },
  {
   "cell_type": "markdown",
   "metadata": {},
   "source": [
    "### Evaluate Model Performance\n",
    "\n",
    "We're almost ready to train our model, we just need to write a function that will check a given trained model against a given dataset and return a 0-1 score of how accurate it was.\n",
    "\n",
    "We'll use this function to print the score as training progresses and print final test predictions at the end of training."
   ]
  },
  {
   "cell_type": "code",
   "execution_count": 67,
   "metadata": {},
   "outputs": [],
   "source": [
    "from typing import List\n",
    "from thinc.model import Model\n",
    "from thinc.types import Array2d, Array1d\n",
    "from wasabi import msg\n",
    "\n",
    "\n",
    "def evaluate_model(\n",
    "    model: Model[Array2d, Array1d],\n",
    "    *,\n",
    "    print_problems: bool = False,\n",
    "    texts: List[str],\n",
    "    X: Array2d,\n",
    "    Y: List[int],\n",
    "):\n",
    "    Yeval = model.predict(X)\n",
    "    correct_count = 0\n",
    "    print_n = 10\n",
    "    if print_problems:\n",
    "        msg.divider(f\"eval samples max({print_n})\")\n",
    "    for text, y_answer, y_guess in zip(texts, Y, Yeval):\n",
    "        y_guess = round(float(y_guess))\n",
    "        correct = y_guess == int(y_answer)\n",
    "        print_fn = msg.fail\n",
    "        if correct:\n",
    "            correct_count += 1\n",
    "            print_fn = msg.good\n",
    "        if print_problems and print_n > 0:\n",
    "            print_n -= 1\n",
    "            print_fn(f\"Answer[{y_answer}] Guess[{y_guess}] Text: {text}\")\n",
    "    return correct_count / len(X)\n"
   ]
  },
  {
   "cell_type": "markdown",
   "metadata": {},
   "source": [
    "#### Try It\n",
    "\n",
    "Let's try it out with an untrained model and expect to see a really sad score."
   ]
  },
  {
   "cell_type": "code",
   "execution_count": 60,
   "metadata": {},
   "outputs": [],
   "source": [
    "texts, X, Y = generate_dataset(128)\n",
    "m = CountLikeTerms(12)\n",
    "m.initialize(X, Y)\n",
    "# Assume the model should do so poorly as to round down to 0\n",
    "assert round(evaluate_model(m, texts=texts, X=X, Y=Y)) == 0"
   ]
  },
  {
   "cell_type": "markdown",
   "metadata": {},
   "source": [
    "### Train the Model\n"
   ]
  },
  {
   "cell_type": "code",
   "execution_count": 71,
   "metadata": {},
   "outputs": [
    {
     "name": "stdout",
     "output_type": "stream",
     "text": [
      "\u001b[2Knerating train dataset with 50000 examples...\u001b[38;5;2m✔ Train set created with 50000 examples.\u001b[0m\n",
      "\u001b[2Knerating eval dataset with 128 examples...\u001b[38;5;2m✔ Eval set created with 128 examples.\u001b[0m\n",
      "0\t0.39\t120064.43\n",
      "1\t0.45\t41674.67\n",
      "2\t0.53\t29810.06\n",
      "3\t0.52\t23767.92\n",
      "4\t0.55\t20037.54\n",
      "5\t0.64\t16832.54\n",
      "6\t0.60\t14723.80\n",
      "7\t0.66\t13340.37\n",
      "8\t0.72\t12555.34\n",
      "9\t0.73\t12078.98\n",
      "10\t0.73\t11292.49\n",
      "11\t0.75\t10791.31\n",
      "\u001b[1m\n",
      "============================ eval samples max(10) ============================\u001b[0m\n",
      "\u001b[38;5;2m✔ Answer[4] Guess[4] Text: 6.9o + -4124g^4 + 4r + 10s^3 + 0.2v + 6d +\n",
      "-7098q^2 + 7.3g^4 + 4p + 4k + 5975x^4 + 11m^2 + 0.4l^3 + 10.4l^3\u001b[0m\n",
      "\u001b[38;5;1m✘ Answer[4] Guess[5] Text: 2510q + -8759a + 12x + 9y + 0.5c + 1880m +\n",
      "10.9t^4 + 1g + 1143.9c + 4.0u^4 + 3.7y + 8356j + 5n^3 + 5.0s\u001b[0m\n",
      "\u001b[38;5;2m✔ Answer[2] Guess[2] Text: 9f + 1.8w^3 + 11.0j + 7969n^4 + -4606x +\n",
      "3604h^3 + 5573.4z + -8408u + 4s^4 + 2u + 6v + 10g^2 + 6p^2\u001b[0m\n",
      "\u001b[38;5;2m✔ Answer[7] Guess[7] Text: 8d + 9t + 6.4n + -7238.6z^2 + 9.0d + 11w +\n",
      "6m^4 + 2x^4 + 12c + 1022z^2 + 4y + 8335l + 7.6d + 8430f + -6979d + 9004u^2 +\n",
      "-6079z^2\u001b[0m\n",
      "\u001b[38;5;2m✔ Answer[4] Guess[4] Text: 3374d^3 + 1.4x + 4c + 8.3f + 6n^2 + 0.7g^3 +\n",
      "1.6d^3 + 5y + 2.4x + 11.3l^4 + -9231t + 7p + 1134o + -8447r\u001b[0m\n",
      "\u001b[38;5;2m✔ Answer[6] Guess[6] Text: 7h^2 + 583.6b + 685.8y + -5088.8a + 9.8n^3 +\n",
      "5.5d + 524b + 1.4l^2 + 9j + -3710n^3 + 7484m^2 + 2n^3 + 1.6b + 1839x + 4u^2 +\n",
      "-3209p\u001b[0m\n",
      "\u001b[38;5;2m✔ Answer[4] Guess[4] Text: 4q + 9181s + 11.1j + -7624b + 3.9m + 10.3p +\n",
      "-6195.1k + -9391h^3 + 11q + 4.4g + 0.2u + 10.1l^4 + 5.4a + 6.5p\u001b[0m\n",
      "\u001b[38;5;2m✔ Answer[2] Guess[2] Text: 6863y + -7685u + 8559o + -457t + 6.2z + 11j\n",
      "+ 1x^3 + -9991f + 12m + 6f + 2.1b + 4.6k + 8.4h\u001b[0m\n",
      "\u001b[38;5;2m✔ Answer[2] Guess[2] Text: -1092b + 7080h^2 + 8.8z^3 + 6.0y + 3.7f^4 +\n",
      "7n + 5.2d + 6694g^3 + -7673r + 4o + 9a + -4915.6k + 5a\u001b[0m\n",
      "\u001b[38;5;2m✔ Answer[6] Guess[6] Text: 3.8o^3 + 5161f^2 + 1r + -6482d + -8956n^4 +\n",
      "10.4y + 7999.7v + 4542h^4 + 1.2u + 4448s + -576u + 12s + -7281u + 5906s + 2468m\n",
      "+ 7993t\u001b[0m\n",
      "Final Accuracy: 0.7890625\n"
     ]
    }
   ],
   "source": [
    "from thinc.api import Adam\n",
    "from wasabi import msg\n",
    "import numpy\n",
    "\n",
    "batch_size = 12\n",
    "num_iters = 12\n",
    "train_size = 50000\n",
    "test_size = 128\n",
    "seen_texts: Set[str] = set()  \n",
    "\n",
    "# Set the random seed to make results more reproducible\n",
    "from thinc.api import fix_random_seed\n",
    "fix_random_seed(1234)\n",
    "\n",
    "with msg.loading(f\"Generating train dataset with {train_size} examples...\"):\n",
    "    (train_texts, train_X, train_y) = generate_dataset(train_size, seen_texts)\n",
    "msg.good(f\"Train set created with {train_size} examples.\")\n",
    "with msg.loading(f\"Generating eval dataset with {test_size} examples...\"):\n",
    "    (eval_texts, eval_X, eval_y) = generate_dataset(test_size, seen_texts)\n",
    "msg.good(f\"Eval set created with {test_size} examples.\")\n",
    "model = CountLikeTerms(512)\n",
    "model.initialize(train_X[:2], train_y[:2])\n",
    "optimizer = Adam()\n",
    "for n in range(num_iters):\n",
    "    loss = 0.0\n",
    "    batches = model.ops.multibatch(batch_size, train_X, train_y, shuffle=True)\n",
    "    for X, Y in batches:\n",
    "        Yh, backprop = model.begin_update(X)\n",
    "        d_loss = []\n",
    "        for i in range(len(Yh)):\n",
    "            d_loss.append(Yh[i] - Y[i])\n",
    "            loss += ((Yh[i] - Y[i]) ** 2).sum()\n",
    "        backprop(numpy.array(d_loss))\n",
    "        model.finish_update(optimizer)\n",
    "    score = evaluate_model(model, texts=eval_texts, X=eval_X, Y=eval_y)\n",
    "    print(f\"{n}\\t{score:.2f}\\t{loss:.2f}\")\n",
    "\n",
    "Yeval = model.predict(eval_X)\n",
    "score = evaluate_model(\n",
    "    model, print_problems=True, texts=eval_texts, X=eval_X, Y=eval_y\n",
    ")\n",
    "print(f\"Final Accuracy: {score}\")"
   ]
  },
  {
   "cell_type": "markdown",
   "metadata": {},
   "source": [
    "### Advanced Exercise\n",
    "\n",
    "Rewrite the model to encode the whole expression with a BiLSTM, and then generate pairs of terms, using the BiLSTM vectors. Over each pair of terms, predict whether the terms are alike or unlike."
   ]
  },
  {
   "cell_type": "code",
   "execution_count": null,
   "metadata": {},
   "outputs": [],
   "source": [
    "from dataclasses import dataclass\n",
    "from thinc.types import Array2d, Ragged\n",
    "from thinc.mode import Model\n",
    "\n",
    "\n",
    "@dataclass\n",
    "class Comparisons:\n",
    "    data: Array2d  # Batch of vectors for each pair\n",
    "    indices: Array2d  # Integers array of shape (N, 3), showing the (batch, term1, term2) positions\n",
    "\n",
    "    def pairify(self) -> Model[Ragged, \"Comparisons\"]:\n",
    "        \"\"\"Create pair-wise comparisons for items in a sequence. For each sequence of N\n",
    "        items, there will be (N**2-N)/2 comparisons.\"\"\"\n",
    "        ...\n",
    "\n",
    "    def predict_over_pairs(\n",
    "        self, model: Model[Array2d, Array2d]\n",
    "    ) -> Model[\"Comparisons\", \"Comparisons\"]:\n",
    "        \"\"\"Apply a prediction model over a batch of comparisons. Outputs a Comparisons\n",
    "        object where the data is the scores. The prediction model should predict over\n",
    "        two classes, True and False.\"\"\"\n",
    "        ...\n"
   ]
  }
 ],
 "metadata": {
  "kernelspec": {
   "display_name": "thinc",
   "language": "python",
   "name": "thinc"
  },
  "language_info": {
   "codemirror_mode": {
    "name": "ipython",
    "version": 3
   },
   "file_extension": ".py",
   "mimetype": "text/x-python",
   "name": "python",
   "nbconvert_exporter": "python",
   "pygments_lexer": "ipython3",
   "version": "3.6.8"
  }
 },
 "nbformat": 4,
 "nbformat_minor": 4
}
